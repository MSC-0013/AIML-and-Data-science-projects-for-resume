{
 "cells": [
  {
   "cell_type": "code",
   "execution_count": null,
   "id": "5e183bfa-d776-43fa-bccc-bc6fad156d18",
   "metadata": {},
   "outputs": [],
   "source": [
    "# import required libraries for random forest model and detecting credit card fraud detection \n",
    "import pandas as pd\n",
    "from sklearn.model_selection import train_test_split\n",
    "import matplotlib.pyplot as plt \n"
   ]
  },
  {
   "cell_type": "code",
   "execution_count": null,
   "id": "b2d886c0-7379-4068-8238-061256562450",
   "metadata": {},
   "outputs": [],
   "source": [
    "# Load the csv file data \n",
    "df = pd.read_csv(\"creditcard.csv\")\n",
    "df.head(10)"
   ]
  },
  {
   "cell_type": "code",
   "execution_count": null,
   "id": "2a3c6ecd-3493-4191-96d4-4e7711f3a991",
   "metadata": {},
   "outputs": [],
   "source": [
    "df.isnull()"
   ]
  },
  {
   "cell_type": "code",
   "execution_count": null,
   "id": "93376b3c-4c2e-459e-bcb2-df14af8e0d61",
   "metadata": {},
   "outputs": [],
   "source": [
    "print(df['Class'].value_counts())"
   ]
  },
  {
   "cell_type": "code",
   "execution_count": null,
   "id": "d9b2cc61-7a4c-4522-9e87-c0fc4ee38233",
   "metadata": {},
   "outputs": [],
   "source": [
    "df.isnull().sum()"
   ]
  },
  {
   "cell_type": "code",
   "execution_count": null,
   "id": "dd01c9c0-37f5-4fd5-9104-4f25bfc7f14a",
   "metadata": {},
   "outputs": [],
   "source": [
    "# Step 3: Preprocessing\n",
    "# Separate features and target variable\n",
    "x = df.drop([\"Class\"], axis=1)\n",
    "y = df[\"Class\"]\n"
   ]
  },
  {
   "cell_type": "code",
   "execution_count": null,
   "id": "e3409182-cc6c-4415-aa6a-942b31d10c46",
   "metadata": {},
   "outputs": [],
   "source": [
    "from sklearn.preprocessing import StandardScaler\n",
    "# Scale the features\n",
    "scaler = StandardScaler()\n",
    "x_scaled = scaler.fit_transform(x)"
   ]
  },
  {
   "cell_type": "code",
   "execution_count": null,
   "id": "f86cec0e-36c5-4188-bf1b-0d18fd2a504b",
   "metadata": {},
   "outputs": [],
   "source": [
    "from sklearn.ensemble import RandomForestClassifier\n",
    "from sklearn.metrics import classification_report, confusion_matrix\n",
    "\n",
    "# Spliting the data into 2 parts one for training and another for testing sets\n",
    "x_train, x_test, y_train, y_test = train_test_split(x, y, test_size=0.2, random_state=42)\n",
    "\n",
    "# Initialize the model\n",
    "rf_model = RandomForestClassifier(random_state=42)\n",
    "\n",
    "# Train the model\n",
    "rf_model.fit(x_train, y_train)\n",
    "y_pred = rf_model.predict(x_test)"
   ]
  },
  {
   "cell_type": "code",
   "execution_count": null,
   "id": "90f028f5-9510-4d49-94a2-0f46de43fa77",
   "metadata": {},
   "outputs": [],
   "source": [
    "# Step 7: Evaluate the Model\n",
    "# Classification report\n",
    "print(classification_report(y_test, y_pred))\n",
    "# confusion_matrix\n",
    "cm = confusion_matrix(y_test, y_pred)\n",
    "print(\"Confusion Matrix:\\n\", cm)"
   ]
  },
  {
   "cell_type": "code",
   "execution_count": null,
   "id": "d8b645ee-5d65-4969-9ff4-c98bb55d56d3",
   "metadata": {},
   "outputs": [],
   "source": [
    "# predicting the model \n",
    "print(\"Prediction (0: non-fraud, 1: fraud):\", model.predict(scaler.transform(pd.DataFrame({'V1': [0.0], 'V2': [1.0], 'V3': [-0.5], 'V4': [0.2], 'V5': [0.3], 'V6': [-0.1], 'V7': [0.1], 'V8': [0.0], 'V9': [0.0], 'V10': [0.1], 'V11': [0.0], 'V12': [-0.1], 'V13': [0.1], 'V14': [0.1], 'V15': [-0.2], 'V16': [0.0], 'V17': [0.1], 'V18': [0.0], 'V19': [0.0], 'V20': [0.0], 'V21': [0.1], 'V22': [0.0], 'V23': [0.0], 'V24': [0.0], 'V25': [0.0], 'V26': [0.1], 'V27': [0.0], 'V28': [0.0]})))\n",
    "      "
   ]
  },
  {
   "cell_type": "code",
   "execution_count": null,
   "id": "218f8c99-5bd3-48f6-b88f-19f42b7ee956",
   "metadata": {},
   "outputs": [],
   "source": []
  }
 ],
 "metadata": {
  "kernelspec": {
   "display_name": "Python 3 (ipykernel)",
   "language": "python",
   "name": "python3"
  },
  "language_info": {
   "codemirror_mode": {
    "name": "ipython",
    "version": 3
   },
   "file_extension": ".py",
   "mimetype": "text/x-python",
   "name": "python",
   "nbconvert_exporter": "python",
   "pygments_lexer": "ipython3",
   "version": "3.10.5"
  }
 },
 "nbformat": 4,
 "nbformat_minor": 5
}
