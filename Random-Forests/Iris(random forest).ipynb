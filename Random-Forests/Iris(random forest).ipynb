{
 "cells": [
  {
   "cell_type": "code",
   "execution_count": 1,
   "id": "bafb1abe-2f9f-42c4-a92c-6db8af5504cb",
   "metadata": {},
   "outputs": [],
   "source": [
    "import pandas as pd"
   ]
  },
  {
   "cell_type": "code",
   "execution_count": 5,
   "id": "e34c7f4c-32b4-4c70-9340-8894c56b0075",
   "metadata": {},
   "outputs": [
    {
     "data": {
      "text/plain": [
       "(  species  elevation soil_type  sepal_length  sepal_width  petal_length  \\\n",
       " 0  setosa      161.8     sandy          5.16         3.41          1.64   \n",
       " 1  setosa      291.4      clay          5.48         4.05          1.53   \n",
       " 2  setosa      144.3     sandy          5.10         2.80          1.47   \n",
       " 3  setosa      114.6      clay          4.64         3.44          1.53   \n",
       " 4  setosa      110.9     loamy          4.85         2.87          1.23   \n",
       " \n",
       "    petal_width  sepal_area  petal_area  sepal_aspect_ratio  ...  \\\n",
       " 0         0.26     17.5956      0.4264            1.513196  ...   \n",
       " 1         0.37     22.1940      0.5661            1.353086  ...   \n",
       " 2         0.38     14.2800      0.5586            1.821429  ...   \n",
       " 3         0.17     15.9616      0.2601            1.348837  ...   \n",
       " 4         0.26     13.9195      0.3198            1.689895  ...   \n",
       " \n",
       "    sepal_to_petal_length_ratio  sepal_to_petal_width_ratio  \\\n",
       " 0                     3.146341                   13.115385   \n",
       " 1                     3.581699                   10.945946   \n",
       " 2                     3.469388                    7.368421   \n",
       " 3                     3.032680                   20.235294   \n",
       " 4                     3.943089                   11.038462   \n",
       " \n",
       "    sepal_petal_length_diff  sepal_petal_width_diff  petal_curvature_mm  \\\n",
       " 0                     3.52                    3.15                5.33   \n",
       " 1                     3.95                    3.68                5.90   \n",
       " 2                     3.63                    2.42                5.66   \n",
       " 3                     3.11                    3.27                4.51   \n",
       " 4                     3.62                    2.61                4.03   \n",
       " \n",
       "    petal_texture_trichomes_per_mm2  leaf_area_cm2  sepal_area_sqrt  \\\n",
       " 0                            18.33          53.21         4.194711   \n",
       " 1                            20.45          52.53         4.711051   \n",
       " 2                            24.62          50.25         3.778889   \n",
       " 3                            22.91          50.85         3.995197   \n",
       " 4                            21.56          40.57         3.730885   \n",
       " \n",
       "    petal_area_sqrt  area_ratios  \n",
       " 0         0.652993    41.265478  \n",
       " 1         0.752396    39.205087  \n",
       " 2         0.747395    25.563910  \n",
       " 3         0.510000    61.367166  \n",
       " 4         0.565509    43.525641  \n",
       " \n",
       " [5 rows x 21 columns],\n",
       "    petal_length  petal_width  sepal_length  sepal_width species\n",
       " 0           1.4          0.2           5.1          3.5  setosa\n",
       " 1           1.4          0.2           4.9          3.0  setosa\n",
       " 2           1.3          0.2           4.7          3.2  setosa\n",
       " 3           1.5          0.2           4.6          3.1  setosa\n",
       " 4           1.4          0.2           5.0          3.6  setosa)"
      ]
     },
     "execution_count": 5,
     "metadata": {},
     "output_type": "execute_result"
    }
   ],
   "source": [
    "# Load the CSV files using pandas\n",
    "df_iris_extended = pd.read_csv(\"iris_extended.csv\")\n",
    "df_iris_original = pd.read_csv(\"iris_original.csv\")\n",
    "# Display the first few rows of both datasets to understand their structure\n",
    "df_iris_extended.head(), df_iris_original.head()\n",
    "\n"
   ]
  },
  {
   "cell_type": "code",
   "execution_count": 7,
   "id": "b320e790-57b3-45bf-87e5-1c343022c55d",
   "metadata": {},
   "outputs": [],
   "source": [
    "from sklearn.model_selection import train_test_split\n",
    "from sklearn.ensemble import RandomForestClassifier\n",
    "from sklearn.metrics import accuracy_score\n",
    "\n",
    "# Prepare the data from iris_original.csv\n",
    "x_original = df_iris_original.drop('species', axis=1)  # Features\n",
    "y_original = df_iris_original['species']  # Target"
   ]
  },
  {
   "cell_type": "code",
   "execution_count": 11,
   "id": "9d7e7268-acb9-4683-aa77-6ae89f616951",
   "metadata": {},
   "outputs": [],
   "source": [
    "# Split the data into training and testing sets\n",
    "x_train_original, x_test_original, y_train_original, y_test_original = train_test_split(\n",
    "    x_original, y_original, test_size=0.3, random_state=42)\n"
   ]
  },
  {
   "cell_type": "code",
   "execution_count": 12,
   "id": "cfce5e77-3c1d-4cb8-8f75-b9dbd92c50aa",
   "metadata": {},
   "outputs": [],
   "source": [
    "# Initialize the Random Forest classifier\n",
    "rf_classifier_original = RandomForestClassifier(n_estimators=100, random_state=42)\n",
    "\n",
    "# Train the model\n",
    "rf_classifier_original.fit(x_train_original, y_train_original)\n",
    "\n",
    "# Make predictions\n",
    "y_pred_original = rf_classifier_original.predict(x_test_original)"
   ]
  },
  {
   "cell_type": "code",
   "execution_count": 13,
   "id": "b7d7a4f5-3494-4430-856a-4900c72304d4",
   "metadata": {},
   "outputs": [
    {
     "data": {
      "text/plain": [
       "1.0"
      ]
     },
     "execution_count": 13,
     "metadata": {},
     "output_type": "execute_result"
    }
   ],
   "source": [
    "accuracy_original = accuracy_score(y_test_original, y_pred_original)\n",
    "accuracy_original"
   ]
  },
  {
   "cell_type": "code",
   "execution_count": null,
   "id": "2ec783a1-40b5-411a-a255-efaba0500dd9",
   "metadata": {},
   "outputs": [],
   "source": [
    "model.predict([["
   ]
  }
 ],
 "metadata": {
  "kernelspec": {
   "display_name": "Python 3 (ipykernel)",
   "language": "python",
   "name": "python3"
  },
  "language_info": {
   "codemirror_mode": {
    "name": "ipython",
    "version": 3
   },
   "file_extension": ".py",
   "mimetype": "text/x-python",
   "name": "python",
   "nbconvert_exporter": "python",
   "pygments_lexer": "ipython3",
   "version": "3.10.5"
  }
 },
 "nbformat": 4,
 "nbformat_minor": 5
}
